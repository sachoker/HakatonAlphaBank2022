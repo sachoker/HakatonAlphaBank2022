{
 "cells": [
  {
   "cell_type": "code",
   "execution_count": 3,
   "metadata": {
    "ExecuteTime": {
     "end_time": "2022-05-25T15:17:07.109692Z",
     "start_time": "2022-05-25T15:17:06.017931Z"
    }
   },
   "outputs": [],
   "source": [
    "import sys\n",
    "import pandas as pd\n",
    "import os\n",
    "\n",
    "def load_pickle(file_path):\n",
    "    with open(file_path, 'rb') as handle:\n",
    "        return pickle.load(handle)\n",
    "        \n",
    "def save_pickle(obj, filepath): \n",
    "    with open(filepath, 'wb') as handle:\n",
    "        pickle.dump(obj, handle, protocol=pickle.HIGHEST_PROTOCOL)"
   ]
  },
  {
   "cell_type": "markdown",
   "metadata": {
    "ExecuteTime": {
     "end_time": "2022-05-25T15:19:57.665121Z",
     "start_time": "2022-05-25T15:19:57.661240Z"
    }
   },
   "source": [
    "Для корректной работы KeplerGl в jupyter notebook: https://docs.kepler.gl/docs/keplergl-jupyter"
   ]
  },
  {
   "cell_type": "code",
   "execution_count": 2,
   "metadata": {
    "ExecuteTime": {
     "end_time": "2022-05-25T15:17:08.157845Z",
     "start_time": "2022-05-25T15:17:08.155204Z"
    }
   },
   "outputs": [],
   "source": [
    "os.makedirs('configs', exist_ok=True)"
   ]
  },
  {
   "cell_type": "code",
   "execution_count": 4,
   "metadata": {
    "ExecuteTime": {
     "end_time": "2022-05-25T15:17:53.100257Z",
     "start_time": "2022-05-25T15:17:52.243226Z"
    }
   },
   "outputs": [],
   "source": [
    "df_roads = pd.read_csv(\"data/train/roads_dataset.csv\")\n",
    "df_transport = pd.read_csv(\"data/train/routes_dataset.csv\")\n",
    "df_population = pd.read_csv(\"data/train/rosstat_population_all_cities.csv\")\n",
    "df_isochrones = pd.read_csv(\"data/train/isochrones_walk_dataset.csv\")\n",
    "df_stops = pd.read_csv(\"data/train/osm_stops.csv\")\n",
    "df_companies = pd.read_csv(\"data/train/osm_amenity.csv\")"
   ]
  },
  {
   "cell_type": "markdown",
   "metadata": {},
   "source": [
    "## Дороги\n",
    "**highway** - тип дороги\n",
    "\n",
    "**geometry** - shapely геометрия дороги\n",
    "\n",
    "**oneway** - признак одностороннего движения\n",
    "\n",
    "**name** - название улицы\n",
    "\n",
    "**city** - город"
   ]
  },
  {
   "cell_type": "code",
   "execution_count": 30,
   "metadata": {
    "ExecuteTime": {
     "end_time": "2022-05-25T15:17:09.921314Z",
     "start_time": "2022-05-25T15:17:09.903911Z"
    }
   },
   "outputs": [
    {
     "data": {
      "text/html": [
       "<div>\n",
       "<style scoped>\n",
       "    .dataframe tbody tr th:only-of-type {\n",
       "        vertical-align: middle;\n",
       "    }\n",
       "\n",
       "    .dataframe tbody tr th {\n",
       "        vertical-align: top;\n",
       "    }\n",
       "\n",
       "    .dataframe thead th {\n",
       "        text-align: right;\n",
       "    }\n",
       "</style>\n",
       "<table border=\"1\" class=\"dataframe\">\n",
       "  <thead>\n",
       "    <tr style=\"text-align: right;\">\n",
       "      <th></th>\n",
       "      <th>id</th>\n",
       "      <th>highway</th>\n",
       "      <th>coord</th>\n",
       "      <th>oneway</th>\n",
       "      <th>name</th>\n",
       "      <th>city</th>\n",
       "    </tr>\n",
       "  </thead>\n",
       "  <tbody>\n",
       "    <tr>\n",
       "      <th>0</th>\n",
       "      <td>33997807</td>\n",
       "      <td>primary_link</td>\n",
       "      <td>LINESTRING (30.3314215 59.895094, 30.3311238 5...</td>\n",
       "      <td>False</td>\n",
       "      <td>NaN</td>\n",
       "      <td>Санкт-Петербург</td>\n",
       "    </tr>\n",
       "    <tr>\n",
       "      <th>1</th>\n",
       "      <td>201380605</td>\n",
       "      <td>primary</td>\n",
       "      <td>LINESTRING (30.3314215 59.895094, 30.3318177 5...</td>\n",
       "      <td>True</td>\n",
       "      <td>Лиговский проспект</td>\n",
       "      <td>Санкт-Петербург</td>\n",
       "    </tr>\n",
       "    <tr>\n",
       "      <th>2</th>\n",
       "      <td>33997784</td>\n",
       "      <td>primary_link</td>\n",
       "      <td>LINESTRING (30.3375246 59.8992885, 30.3379026 ...</td>\n",
       "      <td>False</td>\n",
       "      <td>NaN</td>\n",
       "      <td>Санкт-Петербург</td>\n",
       "    </tr>\n",
       "    <tr>\n",
       "      <th>3</th>\n",
       "      <td>178581714</td>\n",
       "      <td>primary</td>\n",
       "      <td>LINESTRING (30.3375246 59.8992885, 30.3372282 ...</td>\n",
       "      <td>True</td>\n",
       "      <td>Лиговский проспект</td>\n",
       "      <td>Санкт-Петербург</td>\n",
       "    </tr>\n",
       "    <tr>\n",
       "      <th>4</th>\n",
       "      <td>4459876</td>\n",
       "      <td>primary</td>\n",
       "      <td>LINESTRING (30.3395524 59.9017314, 30.3398299 ...</td>\n",
       "      <td>True</td>\n",
       "      <td>Воздухоплавательная улица</td>\n",
       "      <td>Санкт-Петербург</td>\n",
       "    </tr>\n",
       "  </tbody>\n",
       "</table>\n",
       "</div>"
      ],
      "text/plain": [
       "          id       highway                                              coord  \\\n",
       "0   33997807  primary_link  LINESTRING (30.3314215 59.895094, 30.3311238 5...   \n",
       "1  201380605       primary  LINESTRING (30.3314215 59.895094, 30.3318177 5...   \n",
       "2   33997784  primary_link  LINESTRING (30.3375246 59.8992885, 30.3379026 ...   \n",
       "3  178581714       primary  LINESTRING (30.3375246 59.8992885, 30.3372282 ...   \n",
       "4    4459876       primary  LINESTRING (30.3395524 59.9017314, 30.3398299 ...   \n",
       "\n",
       "   oneway                       name             city  \n",
       "0   False                        NaN  Санкт-Петербург  \n",
       "1    True         Лиговский проспект  Санкт-Петербург  \n",
       "2   False                        NaN  Санкт-Петербург  \n",
       "3    True         Лиговский проспект  Санкт-Петербург  \n",
       "4    True  Воздухоплавательная улица  Санкт-Петербург  "
      ]
     },
     "execution_count": 30,
     "metadata": {},
     "output_type": "execute_result"
    }
   ],
   "source": [
    "df_roads.rename(columns={'osmid': 'id', 'geometry':'coord'}, inplace=True)\n",
    "df_roads.head()"
   ]
  },
  {
   "cell_type": "markdown",
   "metadata": {},
   "source": [
    "## Маршруты\n",
    "**geometry** - shapely геометрия маршрута\n",
    "\n",
    "**type** - тип общественного транспорта\n",
    "\n",
    "**city** - город\n",
    "\n",
    "**name** - идентификатор маршрута"
   ]
  },
  {
   "cell_type": "code",
   "execution_count": 21,
   "metadata": {
    "ExecuteTime": {
     "end_time": "2022-05-25T15:17:10.856653Z",
     "start_time": "2022-05-25T15:17:10.849183Z"
    }
   },
   "outputs": [
    {
     "data": {
      "text/html": [
       "<div>\n",
       "<style scoped>\n",
       "    .dataframe tbody tr th:only-of-type {\n",
       "        vertical-align: middle;\n",
       "    }\n",
       "\n",
       "    .dataframe tbody tr th {\n",
       "        vertical-align: top;\n",
       "    }\n",
       "\n",
       "    .dataframe thead th {\n",
       "        text-align: right;\n",
       "    }\n",
       "</style>\n",
       "<table border=\"1\" class=\"dataframe\">\n",
       "  <thead>\n",
       "    <tr style=\"text-align: right;\">\n",
       "      <th></th>\n",
       "      <th>geometry</th>\n",
       "      <th>type</th>\n",
       "      <th>city</th>\n",
       "      <th>name</th>\n",
       "    </tr>\n",
       "  </thead>\n",
       "  <tbody>\n",
       "    <tr>\n",
       "      <th>1461</th>\n",
       "      <td>LINESTRING (83.29533000000001 54.935855, 83.29...</td>\n",
       "      <td>shuttle_bus</td>\n",
       "      <td>Новосибирск</td>\n",
       "      <td>20cecfcf3ffe1eaf431ed018cfc50661</td>\n",
       "    </tr>\n",
       "    <tr>\n",
       "      <th>1462</th>\n",
       "      <td>LINESTRING (83.108234 54.863827, 83.098676 54....</td>\n",
       "      <td>shuttle_bus</td>\n",
       "      <td>Новосибирск</td>\n",
       "      <td>44f683a84163b3523afe57c2e008bc8c</td>\n",
       "    </tr>\n",
       "    <tr>\n",
       "      <th>1463</th>\n",
       "      <td>LINESTRING (83.615652 55.301539, 83.61573 55.3...</td>\n",
       "      <td>shuttle_bus</td>\n",
       "      <td>Новосибирск</td>\n",
       "      <td>9b8619251a19057cff70779273e95aa6</td>\n",
       "    </tr>\n",
       "    <tr>\n",
       "      <th>1464</th>\n",
       "      <td>LINESTRING (82.99458199999999 55.135701, 82.99...</td>\n",
       "      <td>shuttle_bus</td>\n",
       "      <td>Новосибирск</td>\n",
       "      <td>730fb961e16877c20542d24b123d6ceb</td>\n",
       "    </tr>\n",
       "    <tr>\n",
       "      <th>1465</th>\n",
       "      <td>LINESTRING (82.923587 55.016839, 82.9236559999...</td>\n",
       "      <td>shuttle_bus</td>\n",
       "      <td>Новосибирск</td>\n",
       "      <td>0e6641709663dd85809abae67c3f4358</td>\n",
       "    </tr>\n",
       "  </tbody>\n",
       "</table>\n",
       "</div>"
      ],
      "text/plain": [
       "                                               geometry         type  \\\n",
       "1461  LINESTRING (83.29533000000001 54.935855, 83.29...  shuttle_bus   \n",
       "1462  LINESTRING (83.108234 54.863827, 83.098676 54....  shuttle_bus   \n",
       "1463  LINESTRING (83.615652 55.301539, 83.61573 55.3...  shuttle_bus   \n",
       "1464  LINESTRING (82.99458199999999 55.135701, 82.99...  shuttle_bus   \n",
       "1465  LINESTRING (82.923587 55.016839, 82.9236559999...  shuttle_bus   \n",
       "\n",
       "             city                              name  \n",
       "1461  Новосибирск  20cecfcf3ffe1eaf431ed018cfc50661  \n",
       "1462  Новосибирск  44f683a84163b3523afe57c2e008bc8c  \n",
       "1463  Новосибирск  9b8619251a19057cff70779273e95aa6  \n",
       "1464  Новосибирск  730fb961e16877c20542d24b123d6ceb  \n",
       "1465  Новосибирск  0e6641709663dd85809abae67c3f4358  "
      ]
     },
     "execution_count": 21,
     "metadata": {},
     "output_type": "execute_result"
    }
   ],
   "source": [
    "df_transport.tail()"
   ]
  },
  {
   "cell_type": "markdown",
   "metadata": {
    "ExecuteTime": {
     "end_time": "2022-05-25T15:05:25.087029Z",
     "start_time": "2022-05-25T15:05:25.049789Z"
    }
   },
   "source": [
    "## Население\n",
    "**geo_h3_10** - https://eng.uber.com/h3/ : хексагона - полигон в виде соты\n",
    "\n",
    "**city** - город\n",
    "\n",
    "**population** - насление в хексагоне\n",
    "\n",
    "**lat, lon** - широта/долгота центра хексагоны"
   ]
  },
  {
   "cell_type": "code",
   "execution_count": 6,
   "metadata": {
    "ExecuteTime": {
     "end_time": "2022-05-25T15:17:11.664446Z",
     "start_time": "2022-05-25T15:17:11.656267Z"
    }
   },
   "outputs": [
    {
     "data": {
      "text/html": [
       "<div>\n",
       "<style scoped>\n",
       "    .dataframe tbody tr th:only-of-type {\n",
       "        vertical-align: middle;\n",
       "    }\n",
       "\n",
       "    .dataframe tbody tr th {\n",
       "        vertical-align: top;\n",
       "    }\n",
       "\n",
       "    .dataframe thead th {\n",
       "        text-align: right;\n",
       "    }\n",
       "</style>\n",
       "<table border=\"1\" class=\"dataframe\">\n",
       "  <thead>\n",
       "    <tr style=\"text-align: right;\">\n",
       "      <th></th>\n",
       "      <th>geo_h3_10</th>\n",
       "      <th>city</th>\n",
       "      <th>population</th>\n",
       "      <th>lat</th>\n",
       "      <th>lon</th>\n",
       "    </tr>\n",
       "  </thead>\n",
       "  <tbody>\n",
       "    <tr>\n",
       "      <th>0</th>\n",
       "      <td>8a0bb0200907fff</td>\n",
       "      <td>Новосибирск</td>\n",
       "      <td>12</td>\n",
       "      <td>54.942110</td>\n",
       "      <td>83.146356</td>\n",
       "    </tr>\n",
       "    <tr>\n",
       "      <th>1</th>\n",
       "      <td>8a0bb0200927fff</td>\n",
       "      <td>Новосибирск</td>\n",
       "      <td>8</td>\n",
       "      <td>54.942144</td>\n",
       "      <td>83.144157</td>\n",
       "    </tr>\n",
       "    <tr>\n",
       "      <th>2</th>\n",
       "      <td>8a0bb020092ffff</td>\n",
       "      <td>Новосибирск</td>\n",
       "      <td>28</td>\n",
       "      <td>54.943220</td>\n",
       "      <td>83.145270</td>\n",
       "    </tr>\n",
       "    <tr>\n",
       "      <th>3</th>\n",
       "      <td>8a0bb0200937fff</td>\n",
       "      <td>Новосибирск</td>\n",
       "      <td>12</td>\n",
       "      <td>54.941034</td>\n",
       "      <td>83.145243</td>\n",
       "    </tr>\n",
       "    <tr>\n",
       "      <th>4</th>\n",
       "      <td>8a0bb0200977fff</td>\n",
       "      <td>Новосибирск</td>\n",
       "      <td>10</td>\n",
       "      <td>54.944296</td>\n",
       "      <td>83.146384</td>\n",
       "    </tr>\n",
       "  </tbody>\n",
       "</table>\n",
       "</div>"
      ],
      "text/plain": [
       "         geo_h3_10         city  population        lat        lon\n",
       "0  8a0bb0200907fff  Новосибирск          12  54.942110  83.146356\n",
       "1  8a0bb0200927fff  Новосибирск           8  54.942144  83.144157\n",
       "2  8a0bb020092ffff  Новосибирск          28  54.943220  83.145270\n",
       "3  8a0bb0200937fff  Новосибирск          12  54.941034  83.145243\n",
       "4  8a0bb0200977fff  Новосибирск          10  54.944296  83.146384"
      ]
     },
     "execution_count": 6,
     "metadata": {},
     "output_type": "execute_result"
    }
   ],
   "source": [
    "df_population.head()"
   ]
  },
  {
   "cell_type": "markdown",
   "metadata": {
    "ExecuteTime": {
     "end_time": "2022-05-25T15:10:09.121828Z",
     "start_time": "2022-05-25T15:10:09.117592Z"
    }
   },
   "source": [
    "## Изохроны \n",
    "\n",
    "https://medium.com/@urbica/%D0%B3%D0%B0%D0%BB%D1%8C%D1%82%D0%BE%D0%BD-c7360acf1ec4\n",
    "\n",
    "**geo_h3_10** - https://eng.uber.com/h3/ : хексагона - полигон в виде соты\n",
    "\n",
    "**city** - город\n",
    "\n",
    "**walk_15min** - shapely геометрия 15 минутной пешей доступности из точки (lat, lon)\n",
    "\n",
    "**lat, lon** - широта/долгота центра хексагоны"
   ]
  },
  {
   "cell_type": "code",
   "execution_count": 19,
   "metadata": {
    "ExecuteTime": {
     "end_time": "2022-05-25T15:17:12.735407Z",
     "start_time": "2022-05-25T15:17:12.727328Z"
    }
   },
   "outputs": [
    {
     "data": {
      "text/html": [
       "<div>\n",
       "<style scoped>\n",
       "    .dataframe tbody tr th:only-of-type {\n",
       "        vertical-align: middle;\n",
       "    }\n",
       "\n",
       "    .dataframe tbody tr th {\n",
       "        vertical-align: top;\n",
       "    }\n",
       "\n",
       "    .dataframe thead th {\n",
       "        text-align: right;\n",
       "    }\n",
       "</style>\n",
       "<table border=\"1\" class=\"dataframe\">\n",
       "  <thead>\n",
       "    <tr style=\"text-align: right;\">\n",
       "      <th></th>\n",
       "      <th>city</th>\n",
       "      <th>walk_15min</th>\n",
       "      <th>geo_h3_10</th>\n",
       "      <th>lat</th>\n",
       "      <th>lon</th>\n",
       "    </tr>\n",
       "  </thead>\n",
       "  <tbody>\n",
       "    <tr>\n",
       "      <th>47092</th>\n",
       "      <td>Екатеринбург</td>\n",
       "      <td>POLYGON ((60.595314 56.77692, 60.594258 56.776...</td>\n",
       "      <td>8a10dc936d97fff</td>\n",
       "      <td>56.767846</td>\n",
       "      <td>60.585314</td>\n",
       "    </tr>\n",
       "    <tr>\n",
       "      <th>47093</th>\n",
       "      <td>Екатеринбург</td>\n",
       "      <td>POLYGON ((60.596524 56.777762, 60.594996 56.77...</td>\n",
       "      <td>8a10dc936d9ffff</td>\n",
       "      <td>56.768217</td>\n",
       "      <td>60.587524</td>\n",
       "    </tr>\n",
       "    <tr>\n",
       "      <th>47094</th>\n",
       "      <td>Екатеринбург</td>\n",
       "      <td>POLYGON ((60.596222 56.777785, 60.595956 56.77...</td>\n",
       "      <td>8a10dc936da7fff</td>\n",
       "      <td>56.769914</td>\n",
       "      <td>60.584222</td>\n",
       "    </tr>\n",
       "    <tr>\n",
       "      <th>47095</th>\n",
       "      <td>Екатеринбург</td>\n",
       "      <td>POLYGON ((60.597432 56.778491, 60.596432 56.77...</td>\n",
       "      <td>8a10dc936daffff</td>\n",
       "      <td>56.770285</td>\n",
       "      <td>60.586432</td>\n",
       "    </tr>\n",
       "    <tr>\n",
       "      <th>47096</th>\n",
       "      <td>Екатеринбург</td>\n",
       "      <td>POLYGON ((60.586663 56.775702, 60.586524 56.77...</td>\n",
       "      <td>8a10dc936db7fff</td>\n",
       "      <td>56.768694</td>\n",
       "      <td>60.583663</td>\n",
       "    </tr>\n",
       "  </tbody>\n",
       "</table>\n",
       "</div>"
      ],
      "text/plain": [
       "               city                                         walk_15min  \\\n",
       "47092  Екатеринбург  POLYGON ((60.595314 56.77692, 60.594258 56.776...   \n",
       "47093  Екатеринбург  POLYGON ((60.596524 56.777762, 60.594996 56.77...   \n",
       "47094  Екатеринбург  POLYGON ((60.596222 56.777785, 60.595956 56.77...   \n",
       "47095  Екатеринбург  POLYGON ((60.597432 56.778491, 60.596432 56.77...   \n",
       "47096  Екатеринбург  POLYGON ((60.586663 56.775702, 60.586524 56.77...   \n",
       "\n",
       "             geo_h3_10        lat        lon  \n",
       "47092  8a10dc936d97fff  56.767846  60.585314  \n",
       "47093  8a10dc936d9ffff  56.768217  60.587524  \n",
       "47094  8a10dc936da7fff  56.769914  60.584222  \n",
       "47095  8a10dc936daffff  56.770285  60.586432  \n",
       "47096  8a10dc936db7fff  56.768694  60.583663  "
      ]
     },
     "execution_count": 19,
     "metadata": {},
     "output_type": "execute_result"
    }
   ],
   "source": [
    "df_isochrones.tail()"
   ]
  },
  {
   "cell_type": "markdown",
   "metadata": {},
   "source": [
    "### Магазины-кампании и прочее \n",
    "**geo_h3_10** - https://eng.uber.com/h3/ : хексагона - полигон в виде соты\n",
    "\n",
    "**city** - город\n",
    "\n",
    "**lat, lon** - широта/долгота центра хексагоны\n",
    "\n",
    "**остальные колонки** - число организаций типа \"название колонки\" в хексагоне"
   ]
  },
  {
   "cell_type": "code",
   "execution_count": 27,
   "metadata": {
    "ExecuteTime": {
     "end_time": "2022-05-25T15:17:58.297136Z",
     "start_time": "2022-05-25T15:17:58.277007Z"
    }
   },
   "outputs": [
    {
     "data": {
      "text/html": [
       "<div>\n",
       "<style scoped>\n",
       "    .dataframe tbody tr th:only-of-type {\n",
       "        vertical-align: middle;\n",
       "    }\n",
       "\n",
       "    .dataframe tbody tr th {\n",
       "        vertical-align: top;\n",
       "    }\n",
       "\n",
       "    .dataframe thead th {\n",
       "        text-align: right;\n",
       "    }\n",
       "</style>\n",
       "<table border=\"1\" class=\"dataframe\">\n",
       "  <thead>\n",
       "    <tr style=\"text-align: right;\">\n",
       "      <th></th>\n",
       "      <th>geo_h3_10</th>\n",
       "      <th>city</th>\n",
       "      <th>Автозапчасти для иномарок</th>\n",
       "      <th>Авторемонт и техобслуживание (СТО)</th>\n",
       "      <th>Алкогольные напитки</th>\n",
       "      <th>Аптеки</th>\n",
       "      <th>Банки</th>\n",
       "      <th>Быстрое питание</th>\n",
       "      <th>Доставка готовых блюд</th>\n",
       "      <th>Женская одежда</th>\n",
       "      <th>...</th>\n",
       "      <th>Постаматы</th>\n",
       "      <th>Продуктовые магазины</th>\n",
       "      <th>Пункты выдачи интернет-заказов</th>\n",
       "      <th>Рестораны</th>\n",
       "      <th>Страхование</th>\n",
       "      <th>Супермаркеты</th>\n",
       "      <th>Цветы</th>\n",
       "      <th>Шиномонтаж</th>\n",
       "      <th>lat</th>\n",
       "      <th>lon</th>\n",
       "    </tr>\n",
       "  </thead>\n",
       "  <tbody>\n",
       "    <tr>\n",
       "      <th>0</th>\n",
       "      <td>8a0bb0200a5ffff</td>\n",
       "      <td>Новосибирск</td>\n",
       "      <td>0.0</td>\n",
       "      <td>0.0</td>\n",
       "      <td>0.0</td>\n",
       "      <td>0.0</td>\n",
       "      <td>0.0</td>\n",
       "      <td>0.0</td>\n",
       "      <td>0.0</td>\n",
       "      <td>0.0</td>\n",
       "      <td>...</td>\n",
       "      <td>0.0</td>\n",
       "      <td>2.0</td>\n",
       "      <td>0.0</td>\n",
       "      <td>0.0</td>\n",
       "      <td>0.0</td>\n",
       "      <td>0.0</td>\n",
       "      <td>0.0</td>\n",
       "      <td>0.0</td>\n",
       "      <td>54.953869</td>\n",
       "      <td>83.163008</td>\n",
       "    </tr>\n",
       "    <tr>\n",
       "      <th>1</th>\n",
       "      <td>8a0bb0200b37fff</td>\n",
       "      <td>Новосибирск</td>\n",
       "      <td>0.0</td>\n",
       "      <td>0.0</td>\n",
       "      <td>0.0</td>\n",
       "      <td>0.0</td>\n",
       "      <td>0.0</td>\n",
       "      <td>0.0</td>\n",
       "      <td>0.0</td>\n",
       "      <td>0.0</td>\n",
       "      <td>...</td>\n",
       "      <td>0.0</td>\n",
       "      <td>1.0</td>\n",
       "      <td>0.0</td>\n",
       "      <td>0.0</td>\n",
       "      <td>0.0</td>\n",
       "      <td>0.0</td>\n",
       "      <td>0.0</td>\n",
       "      <td>0.0</td>\n",
       "      <td>54.948563</td>\n",
       "      <td>83.153038</td>\n",
       "    </tr>\n",
       "    <tr>\n",
       "      <th>2</th>\n",
       "      <td>8a0bb0201cd7fff</td>\n",
       "      <td>Новосибирск</td>\n",
       "      <td>0.0</td>\n",
       "      <td>0.0</td>\n",
       "      <td>0.0</td>\n",
       "      <td>0.0</td>\n",
       "      <td>0.0</td>\n",
       "      <td>0.0</td>\n",
       "      <td>0.0</td>\n",
       "      <td>0.0</td>\n",
       "      <td>...</td>\n",
       "      <td>0.0</td>\n",
       "      <td>0.0</td>\n",
       "      <td>0.0</td>\n",
       "      <td>0.0</td>\n",
       "      <td>0.0</td>\n",
       "      <td>0.0</td>\n",
       "      <td>0.0</td>\n",
       "      <td>1.0</td>\n",
       "      <td>54.958064</td>\n",
       "      <td>83.174064</td>\n",
       "    </tr>\n",
       "    <tr>\n",
       "      <th>3</th>\n",
       "      <td>8a0bb0201d97fff</td>\n",
       "      <td>Новосибирск</td>\n",
       "      <td>0.0</td>\n",
       "      <td>0.0</td>\n",
       "      <td>0.0</td>\n",
       "      <td>0.0</td>\n",
       "      <td>0.0</td>\n",
       "      <td>0.0</td>\n",
       "      <td>0.0</td>\n",
       "      <td>0.0</td>\n",
       "      <td>...</td>\n",
       "      <td>0.0</td>\n",
       "      <td>2.0</td>\n",
       "      <td>0.0</td>\n",
       "      <td>0.0</td>\n",
       "      <td>0.0</td>\n",
       "      <td>0.0</td>\n",
       "      <td>0.0</td>\n",
       "      <td>0.0</td>\n",
       "      <td>54.953799</td>\n",
       "      <td>83.167407</td>\n",
       "    </tr>\n",
       "    <tr>\n",
       "      <th>4</th>\n",
       "      <td>8a0bb0204027fff</td>\n",
       "      <td>Новосибирск</td>\n",
       "      <td>0.0</td>\n",
       "      <td>0.0</td>\n",
       "      <td>0.0</td>\n",
       "      <td>0.0</td>\n",
       "      <td>0.0</td>\n",
       "      <td>0.0</td>\n",
       "      <td>0.0</td>\n",
       "      <td>0.0</td>\n",
       "      <td>...</td>\n",
       "      <td>0.0</td>\n",
       "      <td>0.0</td>\n",
       "      <td>0.0</td>\n",
       "      <td>0.0</td>\n",
       "      <td>0.0</td>\n",
       "      <td>0.0</td>\n",
       "      <td>0.0</td>\n",
       "      <td>0.0</td>\n",
       "      <td>54.935864</td>\n",
       "      <td>83.126481</td>\n",
       "    </tr>\n",
       "  </tbody>\n",
       "</table>\n",
       "<p>5 rows × 26 columns</p>\n",
       "</div>"
      ],
      "text/plain": [
       "         geo_h3_10         city  Автозапчасти для иномарок  \\\n",
       "0  8a0bb0200a5ffff  Новосибирск                        0.0   \n",
       "1  8a0bb0200b37fff  Новосибирск                        0.0   \n",
       "2  8a0bb0201cd7fff  Новосибирск                        0.0   \n",
       "3  8a0bb0201d97fff  Новосибирск                        0.0   \n",
       "4  8a0bb0204027fff  Новосибирск                        0.0   \n",
       "\n",
       "   Авторемонт и техобслуживание (СТО)  Алкогольные напитки  Аптеки  Банки  \\\n",
       "0                                 0.0                  0.0     0.0    0.0   \n",
       "1                                 0.0                  0.0     0.0    0.0   \n",
       "2                                 0.0                  0.0     0.0    0.0   \n",
       "3                                 0.0                  0.0     0.0    0.0   \n",
       "4                                 0.0                  0.0     0.0    0.0   \n",
       "\n",
       "   Быстрое питание  Доставка готовых блюд  Женская одежда  ...  Постаматы  \\\n",
       "0              0.0                    0.0             0.0  ...        0.0   \n",
       "1              0.0                    0.0             0.0  ...        0.0   \n",
       "2              0.0                    0.0             0.0  ...        0.0   \n",
       "3              0.0                    0.0             0.0  ...        0.0   \n",
       "4              0.0                    0.0             0.0  ...        0.0   \n",
       "\n",
       "   Продуктовые магазины  Пункты выдачи интернет-заказов  Рестораны  \\\n",
       "0                   2.0                             0.0        0.0   \n",
       "1                   1.0                             0.0        0.0   \n",
       "2                   0.0                             0.0        0.0   \n",
       "3                   2.0                             0.0        0.0   \n",
       "4                   0.0                             0.0        0.0   \n",
       "\n",
       "   Страхование  Супермаркеты  Цветы  Шиномонтаж        lat        lon  \n",
       "0          0.0           0.0    0.0         0.0  54.953869  83.163008  \n",
       "1          0.0           0.0    0.0         0.0  54.948563  83.153038  \n",
       "2          0.0           0.0    0.0         1.0  54.958064  83.174064  \n",
       "3          0.0           0.0    0.0         0.0  54.953799  83.167407  \n",
       "4          0.0           0.0    0.0         0.0  54.935864  83.126481  \n",
       "\n",
       "[5 rows x 26 columns]"
      ]
     },
     "execution_count": 27,
     "metadata": {},
     "output_type": "execute_result"
    }
   ],
   "source": [
    "df_companies.fillna(0).head()"
   ]
  },
  {
   "cell_type": "markdown",
   "metadata": {
    "ExecuteTime": {
     "end_time": "2022-05-25T15:16:23.732218Z",
     "start_time": "2022-05-25T15:16:23.728146Z"
    }
   },
   "source": [
    "## Остановки\n",
    "**osm_id** - идентификатор \n",
    "\n",
    "**geo_h3_10** - https://eng.uber.com/h3/ : хексагона - полигон в виде соты\n",
    "\n",
    "**lat, lon** - широта/долгота центра хексагоны\n",
    "\n",
    "**type** - тип остановки\n",
    "\n",
    "**city** - город\n",
    "\n",
    "**name** - название остановки"
   ]
  },
  {
   "cell_type": "code",
   "execution_count": 22,
   "metadata": {
    "ExecuteTime": {
     "end_time": "2022-05-25T15:18:14.711786Z",
     "start_time": "2022-05-25T15:18:14.702244Z"
    }
   },
   "outputs": [
    {
     "data": {
      "text/html": [
       "<div>\n",
       "<style scoped>\n",
       "    .dataframe tbody tr th:only-of-type {\n",
       "        vertical-align: middle;\n",
       "    }\n",
       "\n",
       "    .dataframe tbody tr th {\n",
       "        vertical-align: top;\n",
       "    }\n",
       "\n",
       "    .dataframe thead th {\n",
       "        text-align: right;\n",
       "    }\n",
       "</style>\n",
       "<table border=\"1\" class=\"dataframe\">\n",
       "  <thead>\n",
       "    <tr style=\"text-align: right;\">\n",
       "      <th></th>\n",
       "      <th>osm_id</th>\n",
       "      <th>name</th>\n",
       "      <th>lat</th>\n",
       "      <th>lon</th>\n",
       "      <th>type</th>\n",
       "      <th>city</th>\n",
       "      <th>geo_h3_10</th>\n",
       "    </tr>\n",
       "  </thead>\n",
       "  <tbody>\n",
       "    <tr>\n",
       "      <th>12311</th>\n",
       "      <td>9732849975</td>\n",
       "      <td>улица Симонова</td>\n",
       "      <td>60.063763</td>\n",
       "      <td>30.327582</td>\n",
       "      <td>bus_stop</td>\n",
       "      <td>Санкт-Петербург</td>\n",
       "      <td>8a1106a81107fff</td>\n",
       "    </tr>\n",
       "    <tr>\n",
       "      <th>12312</th>\n",
       "      <td>9732849977</td>\n",
       "      <td>улица Композиторов</td>\n",
       "      <td>60.064654</td>\n",
       "      <td>30.321466</td>\n",
       "      <td>bus_stop</td>\n",
       "      <td>Санкт-Петербург</td>\n",
       "      <td>8a1106a818a7fff</td>\n",
       "    </tr>\n",
       "    <tr>\n",
       "      <th>12313</th>\n",
       "      <td>9732849979</td>\n",
       "      <td>улица Жени Егоровой</td>\n",
       "      <td>60.065848</td>\n",
       "      <td>30.315515</td>\n",
       "      <td>bus_stop</td>\n",
       "      <td>Санкт-Петербург</td>\n",
       "      <td>8a1106a81907fff</td>\n",
       "    </tr>\n",
       "    <tr>\n",
       "      <th>12314</th>\n",
       "      <td>9756417575</td>\n",
       "      <td>Проспект Художников</td>\n",
       "      <td>60.043024</td>\n",
       "      <td>30.350641</td>\n",
       "      <td>bus_stop</td>\n",
       "      <td>Санкт-Петербург</td>\n",
       "      <td>8a1106a83187fff</td>\n",
       "    </tr>\n",
       "    <tr>\n",
       "      <th>12315</th>\n",
       "      <td>9756417576</td>\n",
       "      <td>Проспект Художников</td>\n",
       "      <td>60.043509</td>\n",
       "      <td>30.349097</td>\n",
       "      <td>bus_stop</td>\n",
       "      <td>Санкт-Петербург</td>\n",
       "      <td>8a1106a83187fff</td>\n",
       "    </tr>\n",
       "  </tbody>\n",
       "</table>\n",
       "</div>"
      ],
      "text/plain": [
       "           osm_id                 name        lat        lon      type  \\\n",
       "12311  9732849975       улица Симонова  60.063763  30.327582  bus_stop   \n",
       "12312  9732849977   улица Композиторов  60.064654  30.321466  bus_stop   \n",
       "12313  9732849979  улица Жени Егоровой  60.065848  30.315515  bus_stop   \n",
       "12314  9756417575  Проспект Художников  60.043024  30.350641  bus_stop   \n",
       "12315  9756417576  Проспект Художников  60.043509  30.349097  bus_stop   \n",
       "\n",
       "                  city        geo_h3_10  \n",
       "12311  Санкт-Петербург  8a1106a81107fff  \n",
       "12312  Санкт-Петербург  8a1106a818a7fff  \n",
       "12313  Санкт-Петербург  8a1106a81907fff  \n",
       "12314  Санкт-Петербург  8a1106a83187fff  \n",
       "12315  Санкт-Петербург  8a1106a83187fff  "
      ]
     },
     "execution_count": 22,
     "metadata": {},
     "output_type": "execute_result"
    }
   ],
   "source": [
    "df_stops.tail()"
   ]
  },
  {
   "cell_type": "markdown",
   "metadata": {},
   "source": [
    "### Визуализируем данные"
   ]
  },
  {
   "cell_type": "code",
   "execution_count": 12,
   "metadata": {
    "ExecuteTime": {
     "end_time": "2022-05-25T15:19:12.438149Z",
     "start_time": "2022-05-25T15:19:12.434865Z"
    }
   },
   "outputs": [],
   "source": [
    "map_config_path = \"configs/map-config.pkl\"\n",
    "if os.path.isfile(map_config_path):\n",
    "    config = load_pickle(map_config_path)\n",
    "else:\n",
    "    config = {}"
   ]
  },
  {
   "cell_type": "code",
   "execution_count": 13,
   "metadata": {
    "ExecuteTime": {
     "end_time": "2022-05-25T15:19:22.053542Z",
     "start_time": "2022-05-25T15:19:13.286711Z"
    }
   },
   "outputs": [
    {
     "name": "stdout",
     "output_type": "stream",
     "text": [
      "User Guide: https://docs.kepler.gl/docs/keplergl-jupyter\n"
     ]
    },
    {
     "data": {
      "application/vnd.jupyter.widget-view+json": {
       "model_id": "53c3a11f8ad347d8a764e7f09ddd9c75",
       "version_major": 2,
       "version_minor": 0
      },
      "text/plain": [
       "KeplerGl(config={'version': 'v1', 'config': {'visState': {'filters': [{'dataId': ['Население'], 'id': 'x6eim9x…"
      ]
     },
     "metadata": {},
     "output_type": "display_data"
    }
   ],
   "source": [
    "map_kepler = KeplerGl(height = 750, config=config)\n",
    "map_kepler.add_data(df_roads, 'дороги')\n",
    "map_kepler.add_data(df_transport, 'маршруты транспорта')\n",
    "map_kepler.add_data(df_population.drop('geo_h3_10', axis = 1), 'Население')\n",
    "map_kepler.add_data(df_isochrones.drop('geo_h3_10', axis = 1), 'Пешая доступность')\n",
    "map_kepler.add_data(df_stops.drop('geo_h3_10', axis = 1), 'Остановки')\n",
    "map_kepler"
   ]
  },
  {
   "cell_type": "code",
   "execution_count": 28,
   "metadata": {
    "ExecuteTime": {
     "end_time": "2022-05-24T14:16:51.167061Z",
     "start_time": "2022-05-24T14:16:51.155895Z"
    }
   },
   "outputs": [],
   "source": [
    "save_pickle(map_kepler.config, \"configs/map-config.pkl\")"
   ]
  }
 ],
 "metadata": {
  "kernelspec": {
   "display_name": "Python 3 (ipykernel)",
   "language": "python",
   "name": "python3"
  },
  "language_info": {
   "codemirror_mode": {
    "name": "ipython",
    "version": 3
   },
   "file_extension": ".py",
   "mimetype": "text/x-python",
   "name": "python",
   "nbconvert_exporter": "python",
   "pygments_lexer": "ipython3",
   "version": "3.9.12"
  }
 },
 "nbformat": 4,
 "nbformat_minor": 4
}
